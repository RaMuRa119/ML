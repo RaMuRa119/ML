{
 "cells": [
  {
   "cell_type": "markdown",
   "id": "aea691db",
   "metadata": {},
   "source": [
    "## <div align=\"center\"> TUGAS LAB IF540 MACHINE LEARNING </div>\n",
    "### <div align=\"center\"> WEEK xx : Topic </div>\n",
    "\n",
    "#### <div align=\"center\"> Semester Genap 2022/2023 </div>"
   ]
  },
  {
   "cell_type": "code",
   "execution_count": 1,
   "id": "6704ffa6",
   "metadata": {},
   "outputs": [],
   "source": [
    "# Run this code when you restart the machine\n",
    "# Fill in with YOUR name and NIM\n",
    "import datetime\n",
    "import uuid\n",
    "\n",
    "myName = \"Ragil Muhamad Ramadhan\"\n",
    "myNIM = \"58511\""
   ]
  },
  {
   "cell_type": "code",
   "execution_count": 2,
   "id": "ad81e0ee",
   "metadata": {},
   "outputs": [
    {
     "name": "stdout",
     "output_type": "stream",
     "text": [
      "Name: \t\tRagil Muhamad Ramadhan\n",
      "NIM: \t\t58511\n",
      "Start: \t\t2023-09-28 13:45:19.101194\n",
      "Device ID: \t96dec1b8-5dca-11ee-b84c-c0a2fc48def1\n"
     ]
    }
   ],
   "source": [
    "myDate = datetime.datetime.now()\n",
    "myDevice = str(uuid.uuid1())\n",
    "\n",
    "print(\"Name: \\t\\t{}\".format(myName))\n",
    "print(\"NIM: \\t\\t{}\".format(myNIM))\n",
    "print(\"Start: \\t\\t{}\".format(myDate))\n",
    "print(\"Device ID: \\t{}\".format(myDevice))"
   ]
  },
  {
   "cell_type": "markdown",
   "id": "ce3f5e6e",
   "metadata": {},
   "source": [
    "\n",
    "---\n",
    "\n",
    "### Dataset yang dipakai:\n",
    "\n",
    "1. diabetes – sumber : https://www.kaggle.com/datasets/aemyjutt/diabetesdataanslysis\n",
    "2. Wine – sumber : Elearning\n",
    "\n",
    "---\n",
    "\n",
    "### Hasil kerja"
   ]
  },
  {
   "cell_type": "markdown",
   "id": "045ceb51",
   "metadata": {},
   "source": [
    "#### Importing system library"
   ]
  },
  {
   "cell_type": "code",
   "execution_count": 2,
   "id": "d8c4470e",
   "metadata": {},
   "outputs": [],
   "source": [
    "# import the Libraries\n",
    "import numpy as np\n",
    "import pandas as pd\n",
    "import matplotlib.pyplot as plt\n",
    "import seaborn as sns"
   ]
  },
  {
   "cell_type": "markdown",
   "id": "5605ad06",
   "metadata": {},
   "source": [
    "#### Importing numpy library"
   ]
  },
  {
   "cell_type": "code",
   "execution_count": 3,
   "id": "8c378416",
   "metadata": {},
   "outputs": [
    {
     "data": {
      "text/plain": [
       "(768, 0)"
      ]
     },
     "execution_count": 3,
     "metadata": {},
     "output_type": "execute_result"
    }
   ],
   "source": [
    "# import the dataset\n",
    "dataset = pd.read_csv('./diabetes.csv')\n",
    "X = dataset.iloc[:, :8].values\n",
    "Y = dataset.iloc[:, :0].values\n",
    "Y.shape"
   ]
  },
  {
   "cell_type": "code",
   "execution_count": 74,
   "id": "1250530f",
   "metadata": {},
   "outputs": [
    {
     "name": "stdout",
     "output_type": "stream",
     "text": [
      "(614, 8)\n"
     ]
    },
    {
     "data": {
      "text/plain": [
       "(154,)"
      ]
     },
     "execution_count": 74,
     "metadata": {},
     "output_type": "execute_result"
    }
   ],
   "source": [
    "# spliting the dataset into train set and test set\n",
    "from sklearn.model_selection import train_test_split\n",
    "X_train, X_test, y_train, y_test = train_test_split(X,Y, test_size=0.2, random_state=0)\n",
    "print(X_train.shape)\n",
    "y_test.shape"
   ]
  },
  {
   "cell_type": "code",
   "execution_count": 75,
   "id": "90c86cb1",
   "metadata": {},
   "outputs": [
    {
     "name": "stdout",
     "output_type": "stream",
     "text": [
      "(154, 8)\n"
     ]
    },
    {
     "data": {
      "text/plain": [
       "(154,)"
      ]
     },
     "execution_count": 75,
     "metadata": {},
     "output_type": "execute_result"
    }
   ],
   "source": [
    "# feature Scaling\n",
    "from sklearn.preprocessing import StandardScaler\n",
    "sc_X= StandardScaler()\n",
    "X_train = sc_X.fit_transform(X_train)\n",
    "X_test = sc_X.transform(X_test)\n",
    "\n",
    "print(X_test.shape)\n",
    "y_test.shape"
   ]
  },
  {
   "cell_type": "code",
   "execution_count": 76,
   "id": "37d9b7cd",
   "metadata": {},
   "outputs": [],
   "source": [
    "# import LDA model\n",
    "from sklearn.discriminant_analysis import LinearDiscriminantAnalysis as LDA"
   ]
  },
  {
   "cell_type": "code",
   "execution_count": 77,
   "id": "695ec814",
   "metadata": {},
   "outputs": [],
   "source": [
    "# initialize the LDA\n",
    "lda = LDA(n_components = 2)"
   ]
  },
  {
   "cell_type": "code",
   "execution_count": 78,
   "id": "dd718b00",
   "metadata": {},
   "outputs": [
    {
     "data": {
      "text/plain": [
       "-5299545726090817.0"
      ]
     },
     "execution_count": 78,
     "metadata": {},
     "output_type": "execute_result"
    }
   ],
   "source": [
    "# fitting the LDA model\n",
    "X_test = lda.fit_transform(X_test, y_test)\n",
    "X_train = lda.transform(X_train)\n"
   ]
  },
  {
   "cell_type": "code",
   "execution_count": 43,
   "id": "0e11e148",
   "metadata": {},
   "outputs": [],
   "source": [
    "# import the Logistic Regression model from sklearn using the 2 variances with the help of LDA\n",
    "from sklearn.linear_model import LogisticRegression"
   ]
  },
  {
   "cell_type": "code",
   "execution_count": 44,
   "id": "2c17491f",
   "metadata": {},
   "outputs": [],
   "source": [
    "LG=LogisticRegression(random_state=0)"
   ]
  },
  {
   "cell_type": "code",
   "execution_count": 45,
   "id": "fee73f4d",
   "metadata": {},
   "outputs": [
    {
     "name": "stderr",
     "output_type": "stream",
     "text": [
      "C:\\Users\\ragil\\anaconda3\\Lib\\site-packages\\sklearn\\linear_model\\_logistic.py:460: ConvergenceWarning: lbfgs failed to converge (status=2):\n",
      "ABNORMAL_TERMINATION_IN_LNSRCH.\n",
      "\n",
      "Increase the number of iterations (max_iter) or scale the data as shown in:\n",
      "    https://scikit-learn.org/stable/modules/preprocessing.html\n",
      "Please also refer to the documentation for alternative solver options:\n",
      "    https://scikit-learn.org/stable/modules/linear_model.html#logistic-regression\n",
      "  n_iter_i = _check_optimize_result(\n"
     ]
    },
    {
     "data": {
      "text/html": [
       "<style>#sk-container-id-2 {color: black;}#sk-container-id-2 pre{padding: 0;}#sk-container-id-2 div.sk-toggleable {background-color: white;}#sk-container-id-2 label.sk-toggleable__label {cursor: pointer;display: block;width: 100%;margin-bottom: 0;padding: 0.3em;box-sizing: border-box;text-align: center;}#sk-container-id-2 label.sk-toggleable__label-arrow:before {content: \"▸\";float: left;margin-right: 0.25em;color: #696969;}#sk-container-id-2 label.sk-toggleable__label-arrow:hover:before {color: black;}#sk-container-id-2 div.sk-estimator:hover label.sk-toggleable__label-arrow:before {color: black;}#sk-container-id-2 div.sk-toggleable__content {max-height: 0;max-width: 0;overflow: hidden;text-align: left;background-color: #f0f8ff;}#sk-container-id-2 div.sk-toggleable__content pre {margin: 0.2em;color: black;border-radius: 0.25em;background-color: #f0f8ff;}#sk-container-id-2 input.sk-toggleable__control:checked~div.sk-toggleable__content {max-height: 200px;max-width: 100%;overflow: auto;}#sk-container-id-2 input.sk-toggleable__control:checked~label.sk-toggleable__label-arrow:before {content: \"▾\";}#sk-container-id-2 div.sk-estimator input.sk-toggleable__control:checked~label.sk-toggleable__label {background-color: #d4ebff;}#sk-container-id-2 div.sk-label input.sk-toggleable__control:checked~label.sk-toggleable__label {background-color: #d4ebff;}#sk-container-id-2 input.sk-hidden--visually {border: 0;clip: rect(1px 1px 1px 1px);clip: rect(1px, 1px, 1px, 1px);height: 1px;margin: -1px;overflow: hidden;padding: 0;position: absolute;width: 1px;}#sk-container-id-2 div.sk-estimator {font-family: monospace;background-color: #f0f8ff;border: 1px dotted black;border-radius: 0.25em;box-sizing: border-box;margin-bottom: 0.5em;}#sk-container-id-2 div.sk-estimator:hover {background-color: #d4ebff;}#sk-container-id-2 div.sk-parallel-item::after {content: \"\";width: 100%;border-bottom: 1px solid gray;flex-grow: 1;}#sk-container-id-2 div.sk-label:hover label.sk-toggleable__label {background-color: #d4ebff;}#sk-container-id-2 div.sk-serial::before {content: \"\";position: absolute;border-left: 1px solid gray;box-sizing: border-box;top: 0;bottom: 0;left: 50%;z-index: 0;}#sk-container-id-2 div.sk-serial {display: flex;flex-direction: column;align-items: center;background-color: white;padding-right: 0.2em;padding-left: 0.2em;position: relative;}#sk-container-id-2 div.sk-item {position: relative;z-index: 1;}#sk-container-id-2 div.sk-parallel {display: flex;align-items: stretch;justify-content: center;background-color: white;position: relative;}#sk-container-id-2 div.sk-item::before, #sk-container-id-2 div.sk-parallel-item::before {content: \"\";position: absolute;border-left: 1px solid gray;box-sizing: border-box;top: 0;bottom: 0;left: 50%;z-index: -1;}#sk-container-id-2 div.sk-parallel-item {display: flex;flex-direction: column;z-index: 1;position: relative;background-color: white;}#sk-container-id-2 div.sk-parallel-item:first-child::after {align-self: flex-end;width: 50%;}#sk-container-id-2 div.sk-parallel-item:last-child::after {align-self: flex-start;width: 50%;}#sk-container-id-2 div.sk-parallel-item:only-child::after {width: 0;}#sk-container-id-2 div.sk-dashed-wrapped {border: 1px dashed gray;margin: 0 0.4em 0.5em 0.4em;box-sizing: border-box;padding-bottom: 0.4em;background-color: white;}#sk-container-id-2 div.sk-label label {font-family: monospace;font-weight: bold;display: inline-block;line-height: 1.2em;}#sk-container-id-2 div.sk-label-container {text-align: center;}#sk-container-id-2 div.sk-container {/* jupyter's `normalize.less` sets `[hidden] { display: none; }` but bootstrap.min.css set `[hidden] { display: none !important; }` so we also need the `!important` here to be able to override the default hidden behavior on the sphinx rendered scikit-learn.org. See: https://github.com/scikit-learn/scikit-learn/issues/21755 */display: inline-block !important;position: relative;}#sk-container-id-2 div.sk-text-repr-fallback {display: none;}</style><div id=\"sk-container-id-2\" class=\"sk-top-container\"><div class=\"sk-text-repr-fallback\"><pre>LogisticRegression(random_state=0)</pre><b>In a Jupyter environment, please rerun this cell to show the HTML representation or trust the notebook. <br />On GitHub, the HTML representation is unable to render, please try loading this page with nbviewer.org.</b></div><div class=\"sk-container\" hidden><div class=\"sk-item\"><div class=\"sk-estimator sk-toggleable\"><input class=\"sk-toggleable__control sk-hidden--visually\" id=\"sk-estimator-id-2\" type=\"checkbox\" checked><label for=\"sk-estimator-id-2\" class=\"sk-toggleable__label sk-toggleable__label-arrow\">LogisticRegression</label><div class=\"sk-toggleable__content\"><pre>LogisticRegression(random_state=0)</pre></div></div></div></div></div>"
      ],
      "text/plain": [
       "LogisticRegression(random_state=0)"
      ]
     },
     "execution_count": 45,
     "metadata": {},
     "output_type": "execute_result"
    }
   ],
   "source": [
    "# fit the Logistic Regression model\n",
    "LG.fit(X_train,y_train)"
   ]
  },
  {
   "cell_type": "code",
   "execution_count": 46,
   "id": "d1ffb4f7",
   "metadata": {},
   "outputs": [
    {
     "data": {
      "text/plain": [
       "(154,)"
      ]
     },
     "execution_count": 46,
     "metadata": {},
     "output_type": "execute_result"
    }
   ],
   "source": [
    "# predict the Logistic regression model\n",
    "y_pred=LG.predict(X_test)\n",
    "y_pred.shape"
   ]
  },
  {
   "cell_type": "code",
   "execution_count": 47,
   "id": "b300e562",
   "metadata": {
    "scrolled": true
   },
   "outputs": [
    {
     "data": {
      "text/plain": [
       "<Axes: >"
      ]
     },
     "execution_count": 47,
     "metadata": {},
     "output_type": "execute_result"
    },
    {
     "data": {
      "image/png": "[encoded data removed]",
      "text/plain": [
       "<Figure size 640x480 with 2 Axes>"
      ]
     },
     "metadata": {},
     "output_type": "display_data"
    }
   ],
   "source": [
    "# making a confusion metrics\n",
    "from sklearn.metrics import confusion_matrix\n",
    "confusion_matrix=confusion_matrix(y_test,y_pred)\n",
    "sns.heatmap(confusion_matrix, annot=True, cmap=\"YlGnBu\")"
   ]
  },
  {
   "cell_type": "code",
   "execution_count": 48,
   "id": "5c503200",
   "metadata": {},
   "outputs": [
    {
     "ename": "ValueError",
     "evalue": "array is too big; `arr.size * arr.dtype.itemsize` is larger than the maximum possible size.",
     "output_type": "error",
     "traceback": [
      "\u001b[1;31m---------------------------------------------------------------------------\u001b[0m",
      "\u001b[1;31mValueError\u001b[0m                                Traceback (most recent call last)",
      "Cell \u001b[1;32mIn[48], line 5\u001b[0m\n\u001b[0;32m      2\u001b[0m \u001b[38;5;28;01mfrom\u001b[39;00m \u001b[38;5;21;01mmatplotlib\u001b[39;00m\u001b[38;5;21;01m.\u001b[39;00m\u001b[38;5;21;01mcolors\u001b[39;00m \u001b[38;5;28;01mimport\u001b[39;00m ListedColormap\n\u001b[0;32m      4\u001b[0m X_set, y_set \u001b[38;5;241m=\u001b[39m X_test, y_test\n\u001b[1;32m----> 5\u001b[0m X1, X2 \u001b[38;5;241m=\u001b[39m np\u001b[38;5;241m.\u001b[39mmeshgrid(np\u001b[38;5;241m.\u001b[39marange(start \u001b[38;5;241m=\u001b[39m X_set[:, \u001b[38;5;241m0\u001b[39m]\u001b[38;5;241m.\u001b[39mmin() \u001b[38;5;241m-\u001b[39m \u001b[38;5;241m1\u001b[39m, stop \u001b[38;5;241m=\u001b[39m X_set[:, \u001b[38;5;241m0\u001b[39m]\u001b[38;5;241m.\u001b[39m\n\u001b[0;32m      6\u001b[0m     \u001b[38;5;28mmax\u001b[39m() \u001b[38;5;241m+\u001b[39m \u001b[38;5;241m1\u001b[39m, step \u001b[38;5;241m=\u001b[39m \u001b[38;5;241m0.01\u001b[39m),\n\u001b[0;32m      7\u001b[0m np\u001b[38;5;241m.\u001b[39marange(start \u001b[38;5;241m=\u001b[39m X_set[:, \u001b[38;5;241m1\u001b[39m]\u001b[38;5;241m.\u001b[39mmin() \u001b[38;5;241m-\u001b[39m \u001b[38;5;241m1\u001b[39m, stop \u001b[38;5;241m=\u001b[39m X_set[:, \u001b[38;5;241m1\u001b[39m]\u001b[38;5;241m.\u001b[39m\n\u001b[0;32m      8\u001b[0m     \u001b[38;5;28mmax\u001b[39m() \u001b[38;5;241m+\u001b[39m \u001b[38;5;241m1\u001b[39m, step \u001b[38;5;241m=\u001b[39m \u001b[38;5;241m0.01\u001b[39m))\n\u001b[0;32m      9\u001b[0m plt\u001b[38;5;241m.\u001b[39mcontourf(X1, X2, LG\u001b[38;5;241m.\u001b[39mpredict(np\u001b[38;5;241m.\u001b[39marray([X1\u001b[38;5;241m.\u001b[39mravel(), X2\u001b[38;5;241m.\u001b[39mravel()])\u001b[38;5;241m.\u001b[39mT)\u001b[38;5;241m.\u001b[39mreshape(X1\u001b[38;5;241m.\u001b[39m\n\u001b[0;32m     10\u001b[0m     shape),\n\u001b[0;32m     11\u001b[0m                 alpha \u001b[38;5;241m=\u001b[39m \u001b[38;5;241m0.75\u001b[39m, cmap \u001b[38;5;241m=\u001b[39m ListedColormap((\u001b[38;5;124m'\u001b[39m\u001b[38;5;124mred\u001b[39m\u001b[38;5;124m'\u001b[39m, \u001b[38;5;124m'\u001b[39m\u001b[38;5;124mgreen\u001b[39m\u001b[38;5;124m'\u001b[39m, \u001b[38;5;124m'\u001b[39m\u001b[38;5;124mblue\u001b[39m\u001b[38;5;124m'\u001b[39m)))\n\u001b[0;32m     12\u001b[0m plt\u001b[38;5;241m.\u001b[39mxlim(X1\u001b[38;5;241m.\u001b[39mmin(), X1\u001b[38;5;241m.\u001b[39mmax())\n",
      "\u001b[1;31mValueError\u001b[0m: array is too big; `arr.size * arr.dtype.itemsize` is larger than the maximum possible size."
     ]
    }
   ],
   "source": [
    "# Visualising the Test set results\n",
    "from matplotlib.colors import ListedColormap\n",
    "\n",
    "X_set, y_set = X_test, y_test\n",
    "X1, X2 = np.meshgrid(np.arange(start = X_set[:, 0].min() - 1, stop = X_set[:, 0].\n",
    "    max() + 1, step = 0.01),\n",
    "np.arange(start = X_set[:, 1].min() - 1, stop = X_set[:, 1].\n",
    "    max() + 1, step = 0.01))\n",
    "plt.contourf(X1, X2, LG.predict(np.array([X1.ravel(), X2.ravel()]).T).reshape(X1.\n",
    "    shape),\n",
    "                alpha = 0.75, cmap = ListedColormap(('red', 'green', 'blue')))\n",
    "plt.xlim(X1.min(), X1.max())\n",
    "plt.ylim(X2.min(), X2.max())\n",
    "for i, j in enumerate(np.unique(y_set)):\n",
    "    plt.scatter(X_set[y_set == j, 0], X_set[y_set == j, 1],\n",
    "                c = ListedColormap(('red', 'green', 'blue'))(i), label = j)\n",
    "\n",
    "plt.title('Logistic Regression (Test set)')\n",
    "plt.xlabel('LD1')\n",
    "plt.ylabel('LD2')\n",
    "plt.legend()\n",
    "plt.show()"
   ]
  },
  {
   "cell_type": "code",
   "execution_count": null,
   "id": "261cbb0b",
   "metadata": {},
   "outputs": [],
   "source": []
  },
  {
   "cell_type": "markdown",
   "id": "e65388f7",
   "metadata": {},
   "source": [
    "---\n",
    "\n",
    "### Kesimpulan\n",
    "\n",
    "\n",
    "\n",
    "Berikan simpulan yang dilakukan dari hasil kerja menggunakan algoritma dan 2 dataset yang\n",
    "dipilih. Simpulan bisa berkisar antara (bisa di modifikasi):\n",
    "\n",
    "    - Data set memiliki perbedaan jumlah class data, dimana min class pada data1 adalah 2, sedangkan data2 adalah 3\n",
    "    - Berdasarkan observasi yang saya dapatkan diketahui bahwa metode LDA dapat melakukan reduksi dimensi pada data bergantung pada class yang sama, namun saya menggunakan class jumlah kelahiran pada data1 memiliki 13 class. Karena keterbatasan kemampuan, saya tidak bisa menyelesaikan plot terakhir.\n",
    "\n",
    "---"
   ]
  },
  {
   "cell_type": "code",
   "execution_count": 16,
   "id": "60b9b4ca",
   "metadata": {},
   "outputs": [
    {
     "name": "stdout",
     "output_type": "stream",
     "text": [
      "I certify that this is my own work.\n",
      "Signed by:\n",
      "Name: \t\tRagil Muhamad Ramadhan\n",
      "NIM: \t\t58511\n",
      "Time-stamp:\t2023-09-27 20:35:14.033214\n"
     ]
    }
   ],
   "source": [
    "# Footer\n",
    "myDate = datetime.datetime.now()\n",
    "print(\"I certify that this is my own work.\")\n",
    "print(\"Signed by:\")\n",
    "print(\"Name: \\t\\t{}\".format(myName))\n",
    "print(\"NIM: \\t\\t{}\".format(myNIM))\n",
    "print(\"Time-stamp:\\t{}\".format(myDate))"
   ]
  },
  {
   "cell_type": "markdown",
   "id": "115e24b4",
   "metadata": {},
   "source": [
    "***\n",
    "\n",
    "### Save the notebook, then convert the notebook to html (by running the next code)."
   ]
  },
  {
   "cell_type": "code",
   "execution_count": 4,
   "id": "1e86341c",
   "metadata": {},
   "outputs": [
    {
     "name": "stderr",
     "output_type": "stream",
     "text": [
      "[NbConvertApp] Converting notebook ./IF540_EL_Laporan_04_58511_RagilMuhamadRamadhan.ipynb to html\n",
      "[NbConvertApp] Writing 649585 bytes to IF540_EL_Laporan_04_58511_RagilMuhamadRamadhan.html\n"
     ]
    }
   ],
   "source": [
    "!jupyter nbconvert --to html \"./IF540_EL_Laporan_04_58511_RagilMuhamadRamadhan.ipynb\" --output-dir=\"./\""
   ]
  },
  {
   "cell_type": "code",
   "execution_count": null,
   "id": "bfcd2e6c",
   "metadata": {},
   "outputs": [],
   "source": []
  }
 ],
 "metadata": {
  "kernelspec": {
   "display_name": "Python 3 (ipykernel)",
   "language": "python",
   "name": "python3"
  },
  "language_info": {
   "codemirror_mode": {
    "name": "ipython",
    "version": 3
   },
   "file_extension": ".py",
   "mimetype": "text/x-python",
   "name": "python",
   "nbconvert_exporter": "python",
   "pygments_lexer": "ipython3",
   "version": "3.11.5"
  }
 },
 "nbformat": 4,
 "nbformat_minor": 5
}

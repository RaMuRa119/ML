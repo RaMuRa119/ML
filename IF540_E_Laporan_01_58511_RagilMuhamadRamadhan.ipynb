{
 "cells": [
  {
   "cell_type": "markdown",
   "id": "17c4b6aa",
   "metadata": {},
   "source": [
    "# <div align=\"center\"> TUGAS I LECTURE MACHINE LEARNING </div>\n",
    "Nama  : Ragil Muhamad Ramadhan\n",
    "\n",
    "NIM   : 00000058511"
   ]
  },
  {
   "cell_type": "code",
   "execution_count": 1,
   "id": "b66d19eb",
   "metadata": {},
   "outputs": [],
   "source": [
    "# Run this code when you restart the machine\n",
    "# Fill in with YOUR name and NIM\n",
    "import datetime\n",
    "import uuid\n",
    "\n",
    "myName = \"Ragil Muhamad Ramadhan\"\n",
    "myNIM = \"\""
   ]
  },
  {
   "cell_type": "code",
   "execution_count": 2,
   "id": "a0e1f305",
   "metadata": {},
   "outputs": [
    {
     "name": "stdout",
     "output_type": "stream",
     "text": [
      "Name: \t\tRagil Muhamad Ramadhan\n",
      "NIM: \t\t\n",
      "Start: \t\t2023-11-16 13:52:38.205100\n",
      "Device ID: \tbad64abd-844c-11ee-8532-e2bea1734fd9\n"
     ]
    }
   ],
   "source": [
    "myDate = datetime.datetime.now()\n",
    "myDevice = str(uuid.uuid1())\n",
    "\n",
    "print(\"Name: \\t\\t{}\".format(myName))\n",
    "print(\"NIM: \\t\\t{}\".format(myNIM))\n",
    "print(\"Start: \\t\\t{}\".format(myDate))\n",
    "print(\"Device ID: \\t{}\".format(myDevice))"
   ]
  },
  {
   "cell_type": "code",
   "execution_count": 3,
   "id": "9337af3e",
   "metadata": {},
   "outputs": [
    {
     "name": "stdout",
     "output_type": "stream",
     "text": [
      "min : 280, max : 800\n",
      "\n",
      "a) Data yang sudah dinormalisasi : [0.1346153846153846, 0.27884615384615385, 0.0, 0.057692307692307696, 0.5192307692307693, 0.8076923076923077, 0.6153846153846154, 1.0, 0.3269230769230769, 0.07692307692307693]\n",
      "\n",
      "mean : 478.5, std_dev = 168.93859831311494\n",
      "\n",
      "b) Z-score : [-0.7606313849120196, -0.3166831057804907, -1.1749831121014467, -0.9974038004488351, 0.4232306927720576, 1.3111272510351155, 0.719196212193077, 1.9030582898771542, -0.16870034606998102, -0.9382106965646312]\n"
     ]
    }
   ],
   "source": [
    "# No 1. Normalisasi Data dalam Machine Learning\n",
    "X = [350, 425, 280, 310, 550, 700, 600, 800, 450, 320]\n",
    "\n",
    "# Nilai minimun dan maksimum\n",
    "min_X = 280\n",
    "max_X = 800\n",
    "print(f\"min : {min_X}, max : {max_X}\")\n",
    "\n",
    "# Normalisasi setiap data\n",
    "X_sum = 350 + 425 + 280 + 310 + 550 + 700 + 600 + 800 + 450 + 320\n",
    "X_length = 10\n",
    "X_mean = X_sum / X_length\n",
    "normalized_data = [(X[0] - min_X) / (max_X - min_X), (X[1] - min_X) / (max_X - min_X), \n",
    "                   (X[2] - min_X) / (max_X - min_X), (X[3] - min_X) / (max_X - min_X), \n",
    "                   (X[4] - min_X) / (max_X - min_X), (X[5] - min_X) / (max_X - min_X), \n",
    "                   (X[6] - min_X) / (max_X - min_X), (X[7] - min_X) / (max_X - min_X),\n",
    "                   (X[8] - min_X) / (max_X - min_X), (X[9] - min_X) / (max_X - min_X)]\n",
    "print(f\"\\na) Data yang sudah dinormalisasi : {normalized_data}\")\n",
    "\n",
    "# Mean dan Std Dev\n",
    "X_mean = X_sum / X_length\n",
    "std_dev = ((((X[0] - X_mean) ** 2 )+ ((X[1] - X_mean) ** 2)  + ((X[2] - X_mean) ** 2)  \n",
    "           + ((X[3] - X_mean) ** 2) + ((X[4] - X_mean) ** 2)  + ((X[5] - X_mean) ** 2)\n",
    "           + ((X[6] - X_mean) ** 2) + ((X[7] - X_mean) ** 2) + ((X[8] - X_mean) ** 2)\n",
    "           + ((X[9] - X_mean) ** 2)) / X_length) ** 0.5\n",
    "print(f\"\\nmean : {X_mean}, std_dev = {std_dev}\")\n",
    "\n",
    "# Standard scalling\n",
    "# Standard scalling\n",
    "z_score = [(X[0] - X_mean) / std_dev , (X[1] - X_mean)  / std_dev , (X[2] - X_mean) / std_dev \n",
    "           , (X[3] - X_mean)  / std_dev , (X[4] - X_mean) / std_dev , (X[5] - X_mean) / std_dev\n",
    "           , (X[6] - X_mean)  / std_dev , (X[7] - X_mean) / std_dev , (X[8] - X_mean) / std_dev\n",
    "           , (X[9] - X_mean)  / std_dev]\n",
    "print(f\"\\nb) Z-score : {z_score}\")"
   ]
  },
  {
   "cell_type": "markdown",
   "id": "a4102767",
   "metadata": {},
   "source": [
    "#3. Apa perbedaan antara Min-Max Scaling dan Standard Scaling dalam konteks ini?\n",
    "\n",
    "    Min-Max Scalling merubah data menjadi interval antara 0 - 1, sedangkan pada standard scalling melihat distribusi data apakah normal atau tidak. Pada konteks di atas min-max scallling lebih baik karena tidak ada outliers dalam data, namun pada data yang tidak terdistribusi normal penggunaan standard scalling karena dapat mengukur dan merubah distribusi menjadi normal.\n",
    "    \n",
    "#4. Bagaimana pemilihan metode scaling dapat memengaruhi hasil deteksi anomali dalam lalu lintas jaringan?\n",
    "\n",
    "    Pemilihan metode dapat mempengaruhi dalam mencari anomali, dimana persebaran data terjadi dengan tidak wajar. Maka dari itu peran standard scalling menjadi sangat membantu, karena dapat melihat persebaran data terjadi secara normal maupun tidak. Sedangkan min-max scalling tidak dapat mengidentifikasi persebaran normal secara langsung, akan tetapi masih dapat dilihat selisih dari hasil normalisasi yang terjadi."
   ]
  },
  {
   "cell_type": "code",
   "execution_count": 4,
   "id": "4d56b09b",
   "metadata": {},
   "outputs": [
    {
     "name": "stdout",
     "output_type": "stream",
     "text": [
      "a) Jarak Euclidean : 3.7416573867739413\n",
      "\n",
      "b) Jarak Manhattan : 6\n",
      "\n",
      "c) Jarak Minkowski (P = 3) : 3.3019272488946263\n",
      "\n",
      "d) Nilai dot vektor A dan B : 45, Nilai dot vektor B dan C : 49\n"
     ]
    }
   ],
   "source": [
    "# 2. Jarak vektor dan Dot product\n",
    "A = [2, 4, 7]\n",
    "B = [3, 1, 5]\n",
    "C = [1, 6, 8]\n",
    "\n",
    "# Jarak Euclidean antara Vektor A dan Vektor B\n",
    "i =0\n",
    "eucli_AB= (sum((A[i] - B[i]) ** 2 for i in range(len(A)))) ** 0.5\n",
    "print(f\"a) Jarak Euclidean : {eucli_AB}\")\n",
    "\n",
    "# Jarak Manhattan antara Vektor A dan Vektor B.\n",
    "man_AB = sum(abs(A[i] - B[i]) for i in range(len(A)))\n",
    "print(f\"\\nb) Jarak Manhattan : {man_AB}\")\n",
    "\n",
    "# Jarak Minkowski antara Vektor A dan Vektor B.\n",
    "p = 3\n",
    "minkow_AB =(sum(abs(A[i] - B[i]) ** p for i in range(len(A)))) ** (1/p)\n",
    "print(f\"\\nc) Jarak Minkowski (P = 3) : {minkow_AB}\")\n",
    "\n",
    "#  Dot product (produk dot) antara Vektor B dan Vektor C & Vektor A dan Vektor B\n",
    "dot_AB = sum(A[i] * B[i] for i in range(len(A)))\n",
    "dot_BC = sum(B[i] * C[i] for i in range(len(B)))\n",
    "\n",
    "print(f\"\\nd) Nilai dot vektor A dan B : {dot_AB}, Nilai dot vektor B dan C : {dot_BC}\")"
   ]
  },
  {
   "cell_type": "markdown",
   "id": "4078f69e",
   "metadata": {},
   "source": [
    "#4. Bandingkan hasil perhitungan jarak di atas dan berikan analisis tentang perbedaan hasil yang Anda temukan.\n",
    "\n",
    "    Pada dasarnya setiap rumus sama saja hanya memiliki perbedaan pada nilai p, dimana Euclid memiliki p = 2, dan manhattan p = 1. Sehingga dengan begitu sebenarnya ketiga perhitungan menggunakan rumus minkowski dengan nilai p nya saja yang berbeda. Jarak Euclidean memberikan hasil yang lebih kecil dari jarak Manhattan dan jarak Minkowski, karena jarak Euclidean mengukur kedekatan dua vektor berdasarkan sudut antara kedua vektor tersebut, sedangkan jarak Manhattan dan jarak Minkowski mengukur kedekatan dua vektor berdasarkan jarak yang harus ditempuh untuk bergerak dari satu vektor ke vektor lainnya.\n",
    "    \n",
    "#5. Hitunglah dot product (produk dot) antara Vektor B dan Vektor C. Tentukan apakah dot product antara Vektor A dan Vektor B adalah positif, negatif, atau nol. Jelaskan arti dari hasil yang Anda dapatkan.\n",
    "\n",
    "    Hasil positif pada nilai dot menunjukan bahwa kedua vektor memiliki korelasi yang baik, karena memiliki arah yang semakin berdekatan. Sedangkan negarif memiliki arti berlawanan dan 0 memberikan indikasi tegaklurus pada kedua vektor. Pada dot product vektor A dan B memiliki nilai positif sehingga memiliki kedekatan yang baik.\n",
    "    \n",
    "#6. Kesimpulannya, apa yang dapat Anda simpulkan dari perhitungan jarak vektor antara Vektor A, B, dan C? Apa yang dapat Anda simpulkan dari hasil dot product antara Vektor B dan C dalam konteks analisis data?\n",
    "\n",
    "    Perhitungan jarak euclid, manhattan, dan minkowski mencari jarak antara kedua vektor. Dengan begitu semakin kecil jaraknya semakin similiar komponen dari kedua vektor. Sedangkan dot product dapat memberikan arah serta korelasi dari data berbentuk vektor. Pada perhitungan jarak vektor A, B, C dapat dilihat bahwa data cukup bervariasi. Kemudian pada dot product B dan C memiliki nilai 49, yang berarti kedua vektor memiliki arah yang lumayan sama dan cukup terkorelasi."
   ]
  },
  {
   "cell_type": "code",
   "execution_count": 5,
   "id": "6ce5e952",
   "metadata": {},
   "outputs": [
    {
     "name": "stdout",
     "output_type": "stream",
     "text": [
      "X1 mean\t:  1620.0\n",
      "X2 mean\t:  2.8\n",
      "Y mean\t:  287.5\n"
     ]
    }
   ],
   "source": [
    "# III. Simple Linear Regression and Multiple Linear Regression\n",
    "X1 = [1500, 2000, 1200, 1800, 1600]\n",
    "X2 = [3, 4, 2, 3, 2]\n",
    "Y = [250, 300, 180, 220, 200]\n",
    "\n",
    "X1_mean = (1500+2000+1200+1800+1600)/5\n",
    "X2_mean = (3+4+2+3+2)/5\n",
    "Y_mean = (250+300+180+220+200)/4\n",
    "print(\"X1 mean\\t: \", X1_mean)\n",
    "print(\"X2 mean\\t: \", X2_mean)\n",
    "print(\"Y mean\\t: \", Y_mean)"
   ]
  },
  {
   "cell_type": "code",
   "execution_count": 6,
   "id": "7a733da5",
   "metadata": {},
   "outputs": [
    {
     "name": "stdout",
     "output_type": "stream",
     "text": [
      "X1 deviation\t:  [-120.0, 380.0, -420.0, 180.0, -20.0]\n",
      "X2 deviation\t:  [0.20000000000000018, 1.2000000000000002, -0.7999999999999998, 0.20000000000000018, -0.7999999999999998]\n",
      "Y deviation\t:  [-37.5, 12.5, -107.5, -67.5, -87.5]\n",
      "X1Y product deviation\t:  44000.0\n",
      "X1 Product Deviation Square\t:  368000.0\n"
     ]
    }
   ],
   "source": [
    "#Deviation\n",
    "X1_deviation = [X1[0] - X1_mean, X1[1] - X1_mean, X1[2] - X1_mean, X1[3] - X1_mean, X1[4] - X1_mean]\n",
    "X2_deviation = [X2[0] - X2_mean, X2[1] - X2_mean, X2[2] - X2_mean, X2[3] - X2_mean, X2[4] - X2_mean]\n",
    "Y_deviation = [Y[0] - Y_mean, Y[1] - Y_mean, Y[2] - Y_mean, Y[3] - Y_mean, Y[4] - Y_mean]\n",
    "print(\"X1 deviation\\t: \", X1_deviation)\n",
    "print(\"X2 deviation\\t: \", X2_deviation)\n",
    "print(\"Y deviation\\t: \", Y_deviation)\n",
    "\n",
    "X1_Y_deviation_product = (X1_deviation[0] * Y_deviation[0] + X1_deviation[1] * Y_deviation[1] + X1_deviation[2] * Y_deviation[2]\n",
    "                        + X1_deviation[3] * Y_deviation[3] + X1_deviation[4] * Y_deviation[4])\n",
    "X2_Y_deviation_product = (X2_deviation[0] * Y_deviation[0] + X2_deviation[1] * Y_deviation[1] + X2_deviation[2] * Y_deviation[2]\n",
    "                        + X2_deviation[3] * Y_deviation[3] + X2_deviation[4] * Y_deviation[4])\n",
    "print(\"X1Y product deviation\\t: \", X1_Y_deviation_product)\n",
    "\n",
    "# Product Deviation Square\n",
    "X1_deviation_square_sum = (X1_deviation[0] * X1_deviation[0] + X1_deviation[1] * X1_deviation[1] + X1_deviation[2] * X1_deviation[2]\n",
    "                            + X1_deviation[3] * X1_deviation[3] + X1_deviation[4] * X1_deviation[4])\n",
    "Y_deviation_square_sum = (Y_deviation[0] * Y_deviation[0] + Y_deviation[1] * Y_deviation[1] + Y_deviation[2] * Y_deviation[2]\n",
    "                        + Y_deviation[3] * Y_deviation[3] + Y_deviation[4] * Y_deviation[4])\n",
    "X2_deviation_square_sum = (X2_deviation[0] * X2_deviation[0] + X2_deviation[1] * X2_deviation[1] + X2_deviation[2] * X2_deviation[2]\n",
    "                            + X2_deviation[3] * X2_deviation[3] + X2_deviation[4] * X2_deviation[4])\n",
    "print(\"X1 Product Deviation Square\\t: \", X1_deviation_square_sum)"
   ]
  },
  {
   "cell_type": "code",
   "execution_count": 7,
   "id": "cb7ccd0b",
   "metadata": {},
   "outputs": [
    {
     "name": "stdout",
     "output_type": "stream",
     "text": [
      "Slope\t:  0.11956521739130435\n",
      "Intercept\t:  93.80434782608694\n"
     ]
    }
   ],
   "source": [
    "# Hitunglah persamaan regresi linear sederhana dengan X1 sebagai prediktor\n",
    "b1 = (X1_Y_deviation_product / X1_deviation_square_sum)\n",
    "print(\"Slope\\t: \", b1)\n",
    "\n",
    "b0 = (Y_mean - (b1 * X1_mean))\n",
    "print(\"Intercept\\t: \", b0)\n",
    "\n",
    "#Fungsi Regresi\n",
    "YX1_Pred = [b0 + b1 * X1[0], b0 + b1 * X1[1], b0 + b1 * X1[2], b0 + b1 * X1[3], b0 + b1 * X1[4]]"
   ]
  },
  {
   "cell_type": "code",
   "execution_count": 8,
   "id": "6087f729",
   "metadata": {},
   "outputs": [
    {
     "name": "stdout",
     "output_type": "stream",
     "text": [
      "Nilai R Squared :  0.20768298308284838\n"
     ]
    }
   ],
   "source": [
    "#Tentukan koefisien determinasi (R-squared) dari model regresi.\n",
    "SS_total = Y_deviation_square_sum\n",
    "SS_error = ((YX1_Pred[0] - Y[0]) ** 2 + (YX1_Pred[1] - Y[1]) ** 2 + (YX1_Pred[2] - Y[2]) ** 2 + (YX1_Pred[3] - Y[3]) ** 2 \n",
    "+ (YX1_Pred[4] - Y[4]) ** 2)\n",
    "r_squared = 1 - (SS_error/SS_total)\n",
    "print(\"Nilai R Squared : \", r_squared)"
   ]
  },
  {
   "cell_type": "code",
   "execution_count": 9,
   "id": "e950ee62",
   "metadata": {},
   "outputs": [
    {
     "name": "stdout",
     "output_type": "stream",
     "text": [
      "harga penjualan rumah jika luas tanah (X1) adalah 1400 meter persegi : 261.195652173913\n"
     ]
    }
   ],
   "source": [
    "#Jika luas tanah (X1) adalah 1400 meter persegi, berapakah perkiraan harga penjualan rumahnya?\n",
    "ifX1 = 1400\n",
    "YifX1_Pred = b0 + b1 * ifX1\n",
    "print(\"harga penjualan rumah jika luas tanah (X1) adalah 1400 meter persegi :\", YifX1_Pred)"
   ]
  },
  {
   "cell_type": "code",
   "execution_count": 10,
   "id": "9a9043c8",
   "metadata": {},
   "outputs": [
    {
     "name": "stdout",
     "output_type": "stream",
     "text": [
      "Slope X1\t:  0.11956521739130435\n",
      "Slope X2\t:  53.571428571428555\n",
      "Intercept\t:  -56.195652173913004\n",
      "[273.1521739130435, 332.9347826086956, 237.28260869565216, 309.02173913043475, 285.1086956521739]\n",
      "[283.86645962732916, 397.22049689440996, 194.42546583850933, 319.73602484472053, 242.25155279503107]\n",
      "287.5\n"
     ]
    }
   ],
   "source": [
    "#Hitunglah persamaan regresi linear ganda dengan X1 dan X2 sebagai prediktor.\n",
    "b1 = (X1_Y_deviation_product / X1_deviation_square_sum)\n",
    "print(\"Slope X1\\t: \", b1)\n",
    "\n",
    "b2 = (X2_Y_deviation_product / X2_deviation_square_sum)\n",
    "print(\"Slope X2\\t: \", b2)\n",
    "\n",
    "b0_X1X2 = (Y_mean - (b1 * X1_mean) - (b2 * X2_mean))\n",
    "print(\"Intercept\\t: \", b0_X1X2)\n",
    "\n",
    "#Fungsi Regresi\n",
    "YX1X2_Pred = [b0_X1X2 + (b1 * X1[0]) + (b2 * X2[0]), b0_X1X2 + b1 * X1[1] + b2 * X2[1], b0_X1X2 + b1 * X1[2] + b2 * X2[2]\n",
    "            , b0_X1X2 + b1 * X1[3] + b2 * X2[3], b0_X1X2 + b1 * X1[4] + b2 * X2[4]]\n",
    "print(YX1_Pred)\n",
    "print(YX1X2_Pred)\n",
    "print(Y_mean)"
   ]
  },
  {
   "cell_type": "code",
   "execution_count": 11,
   "id": "d94719c2",
   "metadata": {},
   "outputs": [
    {
     "name": "stdout",
     "output_type": "stream",
     "text": [
      "Nilai R Squared :  0.11021664804691833\n"
     ]
    }
   ],
   "source": [
    "#Tentukan koefisien determinasi (R-squared) dari model regresi.\n",
    "SS_total2 = Y_deviation_square_sum\n",
    "SS_error2 = ((YX1X2_Pred[0] - Y[0]) ** 2 + (YX1X2_Pred[1] - Y[1]) ** 2 + (YX1X2_Pred[2] - Y[2]) ** 2 + (YX1X2_Pred[3] - Y[3]) ** 2 \n",
    "+ (YX1X2_Pred[4] - Y[4]) ** 2)\n",
    "r_squared2 = 1 - (SS_error2/SS_total2)\n",
    "print(\"Nilai R Squared : \", r_squared2)"
   ]
  },
  {
   "cell_type": "code",
   "execution_count": 12,
   "id": "b47a14a7",
   "metadata": {},
   "outputs": [
    {
     "name": "stdout",
     "output_type": "stream",
     "text": [
      "harga penjualan rumah jika luas tanah (X1) adalah 1400 meter persegi\n",
      ", dan jumlah kamar tidur (X2) adalah 2 : 218.3385093167702\n"
     ]
    }
   ],
   "source": [
    "#Jika luas tanah (X1) adalah 1400 meter persegi dan jumlah kamar tidur (X2) adalah 2, \n",
    "#berapakah  perkiraan harga penjualan rumahnya?\n",
    "\n",
    "ifX1 = 1400\n",
    "ifX2 = 2\n",
    "YifX1X2_Pred = b0_X1X2 + (b1 * ifX1) + (b2 * ifX2)\n",
    "print(\"harga penjualan rumah jika luas tanah (X1) adalah 1400 meter persegi\\n, dan jumlah kamar tidur (X2) adalah 2 :\", YifX1X2_Pred)"
   ]
  },
  {
   "cell_type": "markdown",
   "id": "a954b8f8",
   "metadata": {},
   "source": [
    "#7. Bandingkan hasil dari regresi linear sederhana (Bagian A) dan regresi linear ganda (Bagian B). Apa kesimpulan yang dapat Anda ambil tentang kualitas model dan faktor-faktor yang memengaruhi harga penjualan rumah?\n",
    "\n",
    "Pada regresi linear sederhana, nilai r squarednya adalah : 0.20768298308284838. Dengan begitu dapat dilihat bahwa variabel X1 masih cenderung kurang baik dalam menjelaskan variabel Y terkait hubungan antara kedua variabel, keragaman variabel Y, dan tingkat kesesuaian data dengan model regresi.\n",
    "\n",
    "Pada regresi linear sederhana, nilai r squarednya adalah : 0.11021664804691833. Dengan begitu dapat dilihat bahwa variabel X1 dan X2 sangat kurang baik dalam menjelaskan variabel Y terkait hubungan antara kedua variabel, keragaman variabel Y, dan tingkat kesesuaian data dengan model regresi."
   ]
  },
  {
   "cell_type": "code",
   "execution_count": 13,
   "id": "033277a7",
   "metadata": {},
   "outputs": [
    {
     "name": "stdout",
     "output_type": "stream",
     "text": [
      "entropi (H(Y)) :  0.9709\n"
     ]
    }
   ],
   "source": [
    "# IV. Decision Tree\n",
    "X1 = [25, 30, 35, 40, 45]\n",
    "X2 = [4, 5, 6, 7, 8]\n",
    "Y = [0, 0, 0, 1, 1]\n",
    "\n",
    "# Hitung Probabilitas Y\n",
    "p0 = 3 / 5\n",
    "p1 = 2 / 5\n",
    "\n",
    "# Hitung entropi H(Y) \n",
    "log2_p0 = -0.7369\n",
    "log2_p1 = -1.3219\n",
    "HY = -(p0 * log2_p0 + p1 * log2_p1)\n",
    "\n",
    "print(\"entropi (H(Y)) : \", HY)"
   ]
  },
  {
   "cell_type": "code",
   "execution_count": 14,
   "id": "98d778f6",
   "metadata": {},
   "outputs": [
    {
     "name": "stdout",
     "output_type": "stream",
     "text": [
      "entropi (H(Y|X1)) :  0.0\n"
     ]
    }
   ],
   "source": [
    "#Hitunglah entropi H(Y|X1)\n",
    "X1_25_0 = 1\n",
    "X1_25_1 = 0\n",
    "X1_30_0 = 1\n",
    "X1_30_1 = 0\n",
    "X1_35_0 = 1\n",
    "X1_35_1 = 0\n",
    "X1_40_0 = 0\n",
    "X1_40_1 = 1\n",
    "X1_45_0 = 0\n",
    "X1_45_1 = 1\n",
    "\n",
    "HY_X1_25 = 0\n",
    "HY_X1_30 = 0\n",
    "HY_X1_35 = 0\n",
    "HY_X1_40 = 0\n",
    "HY_X1_45 = 0\n",
    "\n",
    "# Hitung entropi target Y berdasarkan fitur X1\n",
    "HY_X1 = (1/5 * HY_X1_25 + 1/5 * HY_X1_30 + 1/5 * HY_X1_35 + 1/5 * HY_X1_40 + \n",
    "        1/5 * HY_X1_45)\n",
    "print(\"entropi (H(Y|X1)) : \", HY_X1)"
   ]
  },
  {
   "cell_type": "code",
   "execution_count": 15,
   "id": "847d6f63",
   "metadata": {},
   "outputs": [
    {
     "name": "stdout",
     "output_type": "stream",
     "text": [
      "entropi (H(Y|X2)) :  0.0\n"
     ]
    }
   ],
   "source": [
    "# Hitunglah entropi (H(Y|X2))\n",
    "X2_4_0 = 1\n",
    "X2_4_1 = 0\n",
    "X2_5_0 = 1\n",
    "X2_5_1 = 0\n",
    "X2_6_0 = 1\n",
    "X2_6_1 = 0\n",
    "X2_7_0 = 0\n",
    "X2_7_1 = 1\n",
    "X2_8_0 = 0\n",
    "X2_8_1 = 1\n",
    "\n",
    "HY_X2_4 = 0\n",
    "HY_X2_5 = 0\n",
    "HY_X2_6 = 0\n",
    "HY_X2_7 = 0\n",
    "HY_X2_8 = 0\n",
    "\n",
    "# Hitung entropi target Y berdasarkan fitur X2\n",
    "HY_X2 = (1/5 * HY_X2_4  + 1/5 * HY_X2_5 + 1/5 * HY_X2_6 + 1/5 * HY_X2_7 + \n",
    "        1/5 * HY_X2_8 )\n",
    "print(\"entropi (H(Y|X2)) : \", HY_X2)"
   ]
  },
  {
   "cell_type": "markdown",
   "id": "f4d133a0",
   "metadata": {},
   "source": [
    "#4.Apa makna hasil entropi yang Anda hitung dalam konteks pengambilan keputusan?\n",
    "\n",
    "Entropi memiliki arti ketidak pastian, semakin tinggi nilainya semakin tinggi pula ketidak pastiannya. Namun pada decision tree, entropi dapat mengindikasikan keberagaman probabilitas dan tingkat homogen dari dataset. Dalam decision tree, entropi juga dapat digunakan untuk memilih fitur terbaik. Karena entropi target Y berdasarkan fitur X1 dan X2 : 0.0 menunjukan model decision tree akan dapat memprediksi nilai target Y dengan sangat baik."
   ]
  },
  {
   "cell_type": "code",
   "execution_count": 16,
   "id": "ddb368cd",
   "metadata": {},
   "outputs": [
    {
     "name": "stdout",
     "output_type": "stream",
     "text": [
      "0.48\n"
     ]
    }
   ],
   "source": [
    "# Hitunglah Gini impurity (Gini(Y)) dari target Y pada dataset ini.\n",
    "Gini_Y = 1 - (p0 ** 2 + p1 ** 2)\n",
    "print(Gini_Y)"
   ]
  },
  {
   "cell_type": "code",
   "execution_count": 17,
   "id": "833bb70d",
   "metadata": {},
   "outputs": [
    {
     "name": "stdout",
     "output_type": "stream",
     "text": [
      "Gini(Y|X1 = 25) = 1 - (1^2 + 0^2) = 1 - 1 = 0\n",
      "Gini(Y|X1 = 30) = 1 - (1^2 + 0^2) = 1 - 1 = 0\n",
      "Gini(Y|X1 = 35) = 1 - (1^2 + 0^2) = 1 - 1 = 0\n",
      "Gini(Y|X1 = 40) = 1 - (0^2 + 1^2) = 1 - 1 = 0\n",
      "Gini(Y|X1 = 45) = 1 - (0^2 + 1^2) = 1 - 1 = 0\n",
      "\n",
      "Gini(Y|X1) = 0\n"
     ]
    }
   ],
   "source": [
    "# Hitunglah Gini impurity (Gini(Y|X1)) dari target Y berdasarkan fitur X1.\n",
    "print(\"Gini(Y|X1 = 25) = 1 - (1^2 + 0^2) = 1 - 1 = 0\")\n",
    "print(\"Gini(Y|X1 = 30) = 1 - (1^2 + 0^2) = 1 - 1 = 0\")\n",
    "print(\"Gini(Y|X1 = 35) = 1 - (1^2 + 0^2) = 1 - 1 = 0\")\n",
    "print(\"Gini(Y|X1 = 40) = 1 - (0^2 + 1^2) = 1 - 1 = 0\")\n",
    "print(\"Gini(Y|X1 = 45) = 1 - (0^2 + 1^2) = 1 - 1 = 0\")\n",
    "\n",
    "print(\"\\nGini(Y|X1) = 0\")"
   ]
  },
  {
   "cell_type": "code",
   "execution_count": 18,
   "id": "b2f37953",
   "metadata": {},
   "outputs": [
    {
     "name": "stdout",
     "output_type": "stream",
     "text": [
      "Gini(Y|X2 = 4) = 1 - (1^2 + 0^2) = 1 - 1 = 0\n",
      "Gini(Y|X2 = 5) = 1 - (1^2 + 0^2) = 1 - 1 = 0\n",
      "Gini(Y|X2 = 6) = 1 - (1^2 + 0^2) = 1 - 1 = 0\n",
      "Gini(Y|X2 = 7) = 1 - (0^2 + 1^2) = 1 - 1 = 0\n",
      "Gini(Y|X2 = 8) = 1 - (0^2 + 1^2) = 1 - 1 = 0\n",
      "\n",
      "Gini(Y|X2) = 0\n"
     ]
    }
   ],
   "source": [
    "# Hitunglah Gini impurity (Gini(Y|X1)) dari target Y berdasarkan fitur X1.\n",
    "print(\"Gini(Y|X2 = 4) = 1 - (1^2 + 0^2) = 1 - 1 = 0\")\n",
    "print(\"Gini(Y|X2 = 5) = 1 - (1^2 + 0^2) = 1 - 1 = 0\")\n",
    "print(\"Gini(Y|X2 = 6) = 1 - (1^2 + 0^2) = 1 - 1 = 0\")\n",
    "print(\"Gini(Y|X2 = 7) = 1 - (0^2 + 1^2) = 1 - 1 = 0\")\n",
    "print(\"Gini(Y|X2 = 8) = 1 - (0^2 + 1^2) = 1 - 1 = 0\")\n",
    "\n",
    "print(\"\\nGini(Y|X2) = 0\")"
   ]
  },
  {
   "cell_type": "markdown",
   "id": "c3b18411",
   "metadata": {},
   "source": [
    "#8. Apa makna hasil Gini impurity yang Anda hitung dalam konteks pengambilan keputusan?\n",
    "\n",
    "Semakin rendah gini semakin homogen data tersebut. Nilai gini yang didapat berupa Gini_Y : 0.48, Gini(Y|X1) = 0, dan Gini(Y|X2) = 0. Karena gini digunakan untuk mengukur sejauh mana sebuah atribut efektif dalam proses klasifikasi data ke dalam kelas yang berbeda, maka nilai 0 menunjukan  keadaan \"murni\", yaitu semua elemen dalam set tersebut termasuk dalam satu kelas tertentu.\n",
    "\n",
    "#9. Bandingkan hasil entropi dan Gini impurity untuk fitur X1 dan X2. Apa yang dapat Anda simpulkan tentang impurity fitur-fitur ini dalam klasifikasi pelanggan membeli atau tidak?\n",
    "\n",
    "Dua-duanya bernilai nol, karena tidak ada kelas pada X1 dna X2. Dengan begitu nilai entropi dan gini menjadi kecil dan menunjukan efiktifitas yang tinggi dalam klasifikasi karena setiap nilai diklasifikasi sebagai 1 kelas."
   ]
  },
  {
   "cell_type": "code",
   "execution_count": 19,
   "id": "2b8b450f",
   "metadata": {},
   "outputs": [
    {
     "name": "stdout",
     "output_type": "stream",
     "text": [
      "((5-3)^2 + (4-5)^2)^0.5 =  2.23606797749979\n",
      "((5-4)^2 + (4-6)^2)^0.5 =  2.23606797749979\n",
      "((5-6)^2 + (4-3)^2)^0.5 =  1.4142135623730951\n",
      "((5-7)^2 + (4-5)^2)^0.5 =  2.23606797749979\n",
      "((5-9)^2 + (4-2)^2)^0.5 =  4.47213595499958\n",
      "((5-8)^2 + (4-3)^2)^0.5 =  3.1622776601683795\n",
      "((5-2)^2 + (4-9)^2)^0.5 =  5.830951894845301\n"
     ]
    }
   ],
   "source": [
    "# Hitung Jarak Euclidean\n",
    "# X1 = 5 X2 = 4\n",
    "# print(\"(5-3)^2 + (4-5)^2 = \", (5-3)**2 + (4-5)**2)\n",
    "# print(\"(5-4)^2 + (4-6)^2 = \", (5-4)**2 + (4-6)**2)\n",
    "# print(\"(5-6)^2 + (4-3)^2 = \", (5-6)**2 + (4-3)**2)\n",
    "# print(\"(5-7)^2 + (4-5)^2 = \", (5-7)**2 + (4-5)**2)\n",
    "# print(\"(5-9)^2 + (4-2)^2 = \", (5-9)**2 + (4-2)**2)\n",
    "# print(\"(5-8)^2 + (4-3)^2 = \", (5-8)**2 + (4-3)**2)\n",
    "# print(\"(5-2)^2 + (4-9)^2 = \", (5-2)**2 + (4-9)**2)\n",
    "\n",
    "# # Jumlahkan\n",
    "# print(\"\\nTotal = \", 5+5+2+5+20+10+45)\n",
    "\n",
    "print(\"((5-3)^2 + (4-5)^2)^0.5 = \", ((5-3)**2 + (4-5)**2)**0.5)\n",
    "print(\"((5-4)^2 + (4-6)^2)^0.5 = \", ((5-4)**2 + (4-6)**2)**0.5)\n",
    "print(\"((5-6)^2 + (4-3)^2)^0.5 = \", ((5-6)**2 + (4-3)**2)**0.5)\n",
    "print(\"((5-7)^2 + (4-5)^2)^0.5 = \", ((5-7)**2 + (4-5)**2)**0.5)\n",
    "print(\"((5-9)^2 + (4-2)^2)^0.5 = \", ((5-9)**2 + (4-2)**2)**0.5)\n",
    "print(\"((5-8)^2 + (4-3)^2)^0.5 = \", ((5-8)**2 + (4-3)**2)**0.5)\n",
    "print(\"((5-2)^2 + (4-9)^2)^0.5 = \", ((5-2)**2 + (4-9)**2)**0.5)"
   ]
  },
  {
   "cell_type": "code",
   "execution_count": 20,
   "id": "b46e272f",
   "metadata": {},
   "outputs": [
    {
     "name": "stdout",
     "output_type": "stream",
     "text": [
      "((5-3)^2 + (4-5)^2)^0.5 =  2.23606797749979\n",
      "((5-4)^2 + (4-6)^2)^0.5 =  2.23606797749979\n",
      "((5-6)^2 + (4-3)^2)^0.5 =  1.4142135623730951\n",
      "((5-7)^2 + (4-5)^2)^0.5 =  2.23606797749979\n",
      "((5-9)^2 + (4-2)^2)^0.5 =  4.47213595499958\n",
      "((5-8)^2 + (4-3)^2)^0.5 =  3.1622776601683795\n",
      "((5-2)^2 + (4-9)^2)^0.5 =  5.830951894845301\n"
     ]
    }
   ],
   "source": [
    "#k-Nearest Neighbors (kNN) dan Support Vector Machine (SVM)\n",
    "# Hitung Jarak Euclidean\n",
    "# X1 = 5 X2 = 4\n",
    "# print(\"(5-3)^2 + (4-5)^2 = \", (5-3)**2 + (4-5)**2)\n",
    "# print(\"(5-4)^2 + (4-6)^2 = \", (5-4)**2 + (4-6)**2)\n",
    "# print(\"(5-6)^2 + (4-3)^2 = \", (5-6)**2 + (4-3)**2)\n",
    "# print(\"(5-7)^2 + (4-5)^2 = \", (5-7)**2 + (4-5)**2)\n",
    "# print(\"(5-9)^2 + (4-2)^2 = \", (5-9)**2 + (4-2)**2)\n",
    "# print(\"(5-8)^2 + (4-3)^2 = \", (5-8)**2 + (4-3)**2)\n",
    "# print(\"(5-2)^2 + (4-9)^2 = \", (5-2)**2 + (4-9)**2)\n",
    "\n",
    "# # Jumlahkan\n",
    "# print(\"\\nTotal = \", 5+5+2+5+20+10+45)\n",
    "\n",
    "print(\"((5-3)^2 + (4-5)^2)^0.5 = \", ((5-3)**2 + (4-5)**2)**0.5)\n",
    "print(\"((5-4)^2 + (4-6)^2)^0.5 = \", ((5-4)**2 + (4-6)**2)**0.5)\n",
    "print(\"((5-6)^2 + (4-3)^2)^0.5 = \", ((5-6)**2 + (4-3)**2)**0.5)\n",
    "print(\"((5-7)^2 + (4-5)^2)^0.5 = \", ((5-7)**2 + (4-5)**2)**0.5)\n",
    "print(\"((5-9)^2 + (4-2)^2)^0.5 = \", ((5-9)**2 + (4-2)**2)**0.5)\n",
    "print(\"((5-8)^2 + (4-3)^2)^0.5 = \", ((5-8)**2 + (4-3)**2)**0.5)\n",
    "print(\"((5-2)^2 + (4-9)^2)^0.5 = \", ((5-2)**2 + (4-9)**2)**0.5)"
   ]
  },
  {
   "cell_type": "markdown",
   "id": "2ec2cee9",
   "metadata": {},
   "source": [
    "Pilih 3 Titik  :\n",
    "Tetangga 1: (6, 3) dengan jarak ≈ 1.414  \n",
    "Tetangga 2: (3, 5) dengan jarak ≈ 2.236  \n",
    "Tetangga 3: (4, 6) dengan jarak ≈ 2.236\n",
    "\n",
    "Menentukan Titik :  \n",
    "(6, 3) = B  \n",
    "(3, 5) = A  \n",
    "(4, 6) = A  \n",
    "\n",
    "Jadi, titik (5, 4) diklasifikasikan sebagai A."
   ]
  },
  {
   "cell_type": "code",
   "execution_count": 21,
   "id": "76c3bfc0",
   "metadata": {},
   "outputs": [],
   "source": [
    "#Naive Bayes Classifier\n",
    "email_text = ['Dapatkan produk super diskon!', 'Peningkatan performa di tempat kerja anda!', \n",
    "              'Promo spesial hanya hari ini!', 'Rapat penting di ruang konferensi.', 'Anda memenangkan hadiah besar!']\n",
    "Label = [1, 0, 1, 0, 1]"
   ]
  },
  {
   "cell_type": "code",
   "execution_count": 57,
   "id": "a7b8af6e",
   "metadata": {},
   "outputs": [
    {
     "name": "stdout",
     "output_type": "stream",
     "text": [
      "P(spam) :  0.6\n",
      "P(nospam) :  0.4\n",
      "P(produk|spam) :  0.3333333333333333\n",
      "P(produk|nospam) :  0\n",
      "P(hadiah|spam) :  0.3333333333333333\n",
      "P(hadiah|nospam) :  0\n",
      "P(Promo spesial hanya hari ini!|spam) :  0.002469135802469135\n",
      "P(Promo spesial hanya hari ini!|nospam) :  0.0\n"
     ]
    }
   ],
   "source": [
    "#Hitunglah probabilitas prior (P(Spam) dan P(Bukan Spam)) berdasarkan jumlah email spam dan bukan spam dalam dataset.\n",
    "p_spam = 3/5\n",
    "p_nospam = 2/5\n",
    "\n",
    "print(\"P(spam) : \", p_spam)\n",
    "print(\"P(nospam) : \", p_nospam)\n",
    "\n",
    "#Hitunglah probabilitas likelihood P(Kata | Spam) dan P(Kata | Bukan Spam) untuk kata \"produk\" dan \"hadiah.\"\n",
    "p_produk_spam = 1/3\n",
    "p_hadiah_spam = 1/3\n",
    "p_produk_nospam = 0\n",
    "p_hadiah_nospam = 0\n",
    "\n",
    "print(\"P(produk|spam) : \", p_produk_spam)\n",
    "print(\"P(produk|nospam) : \", p_produk_nospam)\n",
    "print(\"P(hadiah|spam) : \", p_hadiah_spam)\n",
    "print(\"P(hadiah|nospam) : \", p_hadiah_nospam)\n",
    "\n",
    "#Gunakan metode Naive Bayes untuk mengklasifikasikan email \"Promo spesial hanya hari ini!\" apakah spam atau bukan spam.\n",
    "email = \"Promo spesial hanya hari ini!\"\n",
    "p_promo_spam = 1/3\n",
    "p_spesial_spam = 1/3\n",
    "p_hanya_spam = 1/3\n",
    "p_hari_spam = 1/3\n",
    "p_ini_spam = 1/3\n",
    "\n",
    "p_promo_nospam = 0\n",
    "p_spesial_nospam = 0\n",
    "p_hanya_nospam = 0\n",
    "p_hari_nospam = 0\n",
    "p_ini_nospam = 0\n",
    "\n",
    "p_email_spam = p_spam * p_promo_spam * p_spesial_spam * p_hanya_spam * p_hari_spam * p_ini_spam\n",
    "p_email_nospam = p_nospam * p_promo_nospam * p_spesial_nospam * p_hanya_nospam * p_hari_nospam * p_ini_nospam\n",
    "\n",
    "print(\"P(Promo spesial hanya hari ini!|spam) : \", p_email_spam)\n",
    "print(\"P(Promo spesial hanya hari ini!|nospam) : \", p_email_nospam)\n",
    "\n",
    "#Karena P(Promo spesial hanya hari ini!|spam) > P(Promo spesial hanya hari ini!|nospam) \n",
    "#Maka email tersebut dianggap sebagai spam"
   ]
  },
  {
   "cell_type": "markdown",
   "id": "ccc73934",
   "metadata": {},
   "source": [
    "#Jelaskan apa yang dimaksud dengan \"Naive\" dalam Naive Bayes Classifier dan mengapa metode ini dapat diklasifikasikan sebagai metode probabilistik.\n",
    "\n",
    "Karena untuk pengambilan keputusan ditentukan berdasarkan peluang. Sehingga probabilistik menjadi nilai utama dalam metode ini."
   ]
  },
  {
   "cell_type": "code",
   "execution_count": 1,
   "id": "38c0110e",
   "metadata": {},
   "outputs": [
    {
     "name": "stderr",
     "output_type": "stream",
     "text": [
      "[NbConvertApp] Converting notebook ./IF540_E_Laporan_01_58511_RagilMuhamadRamadhan.ipynb to html\n",
      "[NbConvertApp] Writing 682110 bytes to IF540_E_Laporan_01_58511_RagilMuhamadRamadhan.html\n"
     ]
    }
   ],
   "source": [
    "!jupyter nbconvert --to html \"./IF540_E_Laporan_01_58511_RagilMuhamadRamadhan.ipynb\" --output-dir=\"./\""
   ]
  },
  {
   "cell_type": "code",
   "execution_count": null,
   "id": "d14e3503",
   "metadata": {},
   "outputs": [],
   "source": []
  }
 ],
 "metadata": {
  "kernelspec": {
   "display_name": "Python 3 (ipykernel)",
   "language": "python",
   "name": "python3"
  },
  "language_info": {
   "codemirror_mode": {
    "name": "ipython",
    "version": 3
   },
   "file_extension": ".py",
   "mimetype": "text/x-python",
   "name": "python",
   "nbconvert_exporter": "python",
   "pygments_lexer": "ipython3",
   "version": "3.11.5"
  }
 },
 "nbformat": 4,
 "nbformat_minor": 5
}
